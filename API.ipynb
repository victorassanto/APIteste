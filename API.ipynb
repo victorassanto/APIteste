{
 "cells": [
  {
   "cell_type": "markdown",
   "source": [
    "# API Exemplo\r\n",
    "\r\n",
    "### Queremos pegar a cotação do dólar de forma automática e atualizada, como fazemos ?\r\n",
    "\r\n",
    "Usamos o awesome api: https://docs.awesomeapi.com.br/\r\n",
    "\r\n",
    "API do Twilio comentada: https://www.twilio.com/docs/libraries/python"
   ],
   "metadata": {}
  },
  {
   "cell_type": "code",
   "execution_count": 10,
   "source": [
    "import requests\r\n",
    "import json\r\n",
    "\r\n",
    "# esse link pode mudar se os donos da API mudarem\r\n",
    "cotacoes = requests.get(\"https://economia.awesomeapi.com.br/last/USD-BRL,EUR-BRL,BTC-BRL\")\r\n",
    "cotacoes_dic = cotacoes.json()\r\n",
    "cotacao_dolar = cotacoes_dic['USDBRL']['bid']\r\n",
    "print(cotacao_dolar)"
   ],
   "outputs": [
    {
     "output_type": "stream",
     "name": "stdout",
     "text": [
      "5.2885\n"
     ]
    }
   ],
   "metadata": {}
  }
 ],
 "metadata": {
  "kernelspec": {
   "name": "python3",
   "display_name": "Python 3.9.5 32-bit"
  },
  "language_info": {
   "codemirror_mode": {
    "name": "ipython",
    "version": 3
   },
   "file_extension": ".py",
   "mimetype": "text/x-python",
   "name": "python",
   "nbconvert_exporter": "python",
   "pygments_lexer": "ipython3",
   "version": "3.9.5"
  },
  "interpreter": {
   "hash": "83cf1eedcc199290196112b7dd462be616cc0f7cbd745f1cd8c9275de258884f"
  }
 },
 "nbformat": 4,
 "nbformat_minor": 4
}